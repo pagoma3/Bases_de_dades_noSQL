{
 "cells": [
  {
   "cell_type": "markdown",
   "id": "4b13e013",
   "metadata": {},
   "source": [
    "# Sprint 18, Task 1\n",
    "\n",
    "## Level 1\n",
    "\n",
    "### Exercise 1\n",
    "\n",
    "Create a NoSQL database using MongoDB. Add some example data to show that you are able to process some basic data.\n",
    "\n",
    "### Exercise 2\n",
    "\n",
    "Connect the NoSQL database to Python using for example pymongo:"
   ]
  },
  {
   "cell_type": "code",
   "execution_count": 1,
   "id": "fa2fb71a",
   "metadata": {
    "ExecuteTime": {
     "end_time": "2021-09-02T10:09:40.165645Z",
     "start_time": "2021-09-02T10:09:39.479183Z"
    }
   },
   "outputs": [],
   "source": [
    "import pymongo"
   ]
  },
  {
   "cell_type": "code",
   "execution_count": 2,
   "id": "68337c31",
   "metadata": {
    "ExecuteTime": {
     "end_time": "2021-09-02T10:09:40.221267Z",
     "start_time": "2021-09-02T10:09:40.169845Z"
    }
   },
   "outputs": [],
   "source": [
    "# We first download a local community MongoDB server. In it, we create a new database:\n",
    "\n",
    "myclient = pymongo.MongoClient(\"mongodb://localhost:27017/\")\n",
    "\n",
    "mydb = myclient[\"mydatabase\"]\n",
    "\n",
    "mycol = mydb[\"countries\"]"
   ]
  },
  {
   "cell_type": "code",
   "execution_count": 3,
   "id": "1de1a7d0",
   "metadata": {
    "ExecuteTime": {
     "end_time": "2021-09-02T10:09:40.358926Z",
     "start_time": "2021-09-02T10:09:40.228914Z"
    }
   },
   "outputs": [],
   "source": [
    "# We add the first row of data, since this will be a database of countries and their capitals\n",
    "\n",
    "mydict = { \"name\": \"France\", \"Capital\": \"Paris\" }\n",
    "\n",
    "x = mycol.insert_one(mydict)"
   ]
  },
  {
   "cell_type": "code",
   "execution_count": 4,
   "id": "db9efed5",
   "metadata": {
    "ExecuteTime": {
     "end_time": "2021-09-02T10:09:40.376007Z",
     "start_time": "2021-09-02T10:09:40.365426Z"
    }
   },
   "outputs": [],
   "source": [
    "# We add more values to the database:\n",
    "\n",
    "mylist = [\n",
    "    { \"name\": \"China\", \"capital\": \"Beijing\"},\n",
    "    { \"name\": \"USA\", \"capital\": \"Washington\"},\n",
    "    { \"name\": \"Spain\", \"capital\": \"Madrid\"},\n",
    "    { \"name\": \"Switzerland\", \"capital\": \"Bern\"},\n",
    "    { \"name\": \"Brazil\", \"capital\": \"Brasilia\"},\n",
    "    { \"name\": \"Japan\", \"capital\": \"Tokyo\"},\n",
    "]\n",
    "\n",
    "x = mycol.insert_many(mylist)"
   ]
  },
  {
   "cell_type": "code",
   "execution_count": 5,
   "id": "4b8a26f1",
   "metadata": {
    "ExecuteTime": {
     "end_time": "2021-09-02T10:09:40.394671Z",
     "start_time": "2021-09-02T10:09:40.379178Z"
    }
   },
   "outputs": [
    {
     "name": "stdout",
     "output_type": "stream",
     "text": [
      "{'_id': ObjectId('6130a2e4d361c10570113261'), 'name': 'France', 'Capital': 'Paris'}\n",
      "{'_id': ObjectId('6130a2e4d361c10570113262'), 'name': 'China', 'capital': 'Beijing'}\n",
      "{'_id': ObjectId('6130a2e4d361c10570113263'), 'name': 'USA', 'capital': 'Washington'}\n",
      "{'_id': ObjectId('6130a2e4d361c10570113264'), 'name': 'Spain', 'capital': 'Madrid'}\n",
      "{'_id': ObjectId('6130a2e4d361c10570113265'), 'name': 'Switzerland', 'capital': 'Bern'}\n",
      "{'_id': ObjectId('6130a2e4d361c10570113266'), 'name': 'Brazil', 'capital': 'Brasilia'}\n",
      "{'_id': ObjectId('6130a2e4d361c10570113267'), 'name': 'Japan', 'capital': 'Tokyo'}\n"
     ]
    }
   ],
   "source": [
    "# We print the database:\n",
    "\n",
    "for x in mycol.find():\n",
    "      print(x)"
   ]
  },
  {
   "cell_type": "code",
   "execution_count": 6,
   "id": "fdd56b67",
   "metadata": {
    "ExecuteTime": {
     "end_time": "2021-09-02T10:09:40.433003Z",
     "start_time": "2021-09-02T10:09:40.407343Z"
    }
   },
   "outputs": [
    {
     "name": "stdout",
     "output_type": "stream",
     "text": [
      "{'_id': ObjectId('6130a2e4d361c10570113262'), 'name': 'China', 'capital': 'Beijing'}\n",
      "{'_id': ObjectId('6130a2e4d361c10570113265'), 'name': 'Switzerland', 'capital': 'Bern'}\n",
      "{'_id': ObjectId('6130a2e4d361c10570113266'), 'name': 'Brazil', 'capital': 'Brasilia'}\n"
     ]
    }
   ],
   "source": [
    "# We select and print all entries whose capital starts by \"B\":\n",
    "\n",
    "myquery = { \"capital\": { \"$regex\": \"^B\" } }\n",
    "\n",
    "mydoc = mycol.find(myquery)\n",
    "\n",
    "for x in mydoc:\n",
    "      print(x)"
   ]
  },
  {
   "cell_type": "code",
   "execution_count": 7,
   "id": "076fee07",
   "metadata": {
    "ExecuteTime": {
     "end_time": "2021-09-02T10:09:40.476182Z",
     "start_time": "2021-09-02T10:09:40.436927Z"
    }
   },
   "outputs": [
    {
     "name": "stdout",
     "output_type": "stream",
     "text": [
      "{'_id': ObjectId('6130a2e4d361c10570113263'), 'name': 'USA', 'capital': 'Washington'}\n",
      "{'_id': ObjectId('6130a2e4d361c10570113267'), 'name': 'Japan', 'capital': 'Tokyo'}\n",
      "{'_id': ObjectId('6130a2e4d361c10570113264'), 'name': 'Spain', 'capital': 'Madrid'}\n",
      "{'_id': ObjectId('6130a2e4d361c10570113266'), 'name': 'Brazil', 'capital': 'Brasilia'}\n",
      "{'_id': ObjectId('6130a2e4d361c10570113265'), 'name': 'Switzerland', 'capital': 'Bern'}\n",
      "{'_id': ObjectId('6130a2e4d361c10570113262'), 'name': 'China', 'capital': 'Beijing'}\n",
      "{'_id': ObjectId('6130a2e4d361c10570113261'), 'name': 'France', 'Capital': 'Paris'}\n"
     ]
    }
   ],
   "source": [
    "# We sort entries by capital name in reverse alphabetical order:\n",
    "\n",
    "mydoc = mycol.find().sort(\"capital\", -1)\n",
    "\n",
    "for x in mydoc:\n",
    "      print(x)"
   ]
  },
  {
   "cell_type": "code",
   "execution_count": 8,
   "id": "0e641808",
   "metadata": {
    "ExecuteTime": {
     "end_time": "2021-09-02T10:09:40.499242Z",
     "start_time": "2021-09-02T10:09:40.481349Z"
    }
   },
   "outputs": [],
   "source": [
    "# For Paris, Capital starts with a capital letter, due to a previous mistake. Solution:\n",
    "\n",
    "myquery = { \"Capital\": \"Paris\" }\n",
    "\n",
    "mycol.delete_one(myquery)\n",
    "\n",
    "mydict = { \"name\": \"France\", \"capital\": \"Paris\" }\n",
    "\n",
    "x = mycol.insert_one(mydict)"
   ]
  },
  {
   "cell_type": "markdown",
   "id": "65bc750e",
   "metadata": {},
   "source": [
    "## Level 2\n",
    "\n",
    "### Exercise 3\n",
    "\n",
    "Upload some data to a Pandas Dataframe:"
   ]
  },
  {
   "cell_type": "code",
   "execution_count": 9,
   "id": "86c60201",
   "metadata": {
    "ExecuteTime": {
     "end_time": "2021-09-02T10:09:41.777149Z",
     "start_time": "2021-09-02T10:09:40.526708Z"
    }
   },
   "outputs": [],
   "source": [
    "import pandas as pd"
   ]
  },
  {
   "cell_type": "code",
   "execution_count": 19,
   "id": "f9e4b1d6",
   "metadata": {
    "ExecuteTime": {
     "end_time": "2021-09-02T10:17:05.094684Z",
     "start_time": "2021-09-02T10:17:05.058385Z"
    }
   },
   "outputs": [
    {
     "data": {
      "text/html": [
       "<div>\n",
       "<style scoped>\n",
       "    .dataframe tbody tr th:only-of-type {\n",
       "        vertical-align: middle;\n",
       "    }\n",
       "\n",
       "    .dataframe tbody tr th {\n",
       "        vertical-align: top;\n",
       "    }\n",
       "\n",
       "    .dataframe thead th {\n",
       "        text-align: right;\n",
       "    }\n",
       "</style>\n",
       "<table border=\"1\" class=\"dataframe\">\n",
       "  <thead>\n",
       "    <tr style=\"text-align: right;\">\n",
       "      <th></th>\n",
       "      <th>_id</th>\n",
       "      <th>name</th>\n",
       "      <th>capital</th>\n",
       "    </tr>\n",
       "  </thead>\n",
       "  <tbody>\n",
       "    <tr>\n",
       "      <th>0</th>\n",
       "      <td>6130a2e4d361c10570113262</td>\n",
       "      <td>China</td>\n",
       "      <td>Beijing</td>\n",
       "    </tr>\n",
       "    <tr>\n",
       "      <th>1</th>\n",
       "      <td>6130a2e4d361c10570113263</td>\n",
       "      <td>USA</td>\n",
       "      <td>Washington</td>\n",
       "    </tr>\n",
       "    <tr>\n",
       "      <th>2</th>\n",
       "      <td>6130a2e4d361c10570113264</td>\n",
       "      <td>Spain</td>\n",
       "      <td>Madrid</td>\n",
       "    </tr>\n",
       "    <tr>\n",
       "      <th>3</th>\n",
       "      <td>6130a2e4d361c10570113265</td>\n",
       "      <td>Switzerland</td>\n",
       "      <td>Bern</td>\n",
       "    </tr>\n",
       "    <tr>\n",
       "      <th>4</th>\n",
       "      <td>6130a2e4d361c10570113266</td>\n",
       "      <td>Brazil</td>\n",
       "      <td>Brasilia</td>\n",
       "    </tr>\n",
       "  </tbody>\n",
       "</table>\n",
       "</div>"
      ],
      "text/plain": [
       "                        _id         name     capital\n",
       "0  6130a2e4d361c10570113262        China     Beijing\n",
       "1  6130a2e4d361c10570113263          USA  Washington\n",
       "2  6130a2e4d361c10570113264        Spain      Madrid\n",
       "3  6130a2e4d361c10570113265  Switzerland        Bern\n",
       "4  6130a2e4d361c10570113266       Brazil    Brasilia"
      ]
     },
     "execution_count": 19,
     "metadata": {},
     "output_type": "execute_result"
    }
   ],
   "source": [
    "# Translate MongoDB into Pandas:\n",
    "\n",
    "df = pd.DataFrame(list(mycol.find()))\n",
    "\n",
    "df.head()"
   ]
  },
  {
   "cell_type": "markdown",
   "id": "8cc456d3",
   "metadata": {
    "ExecuteTime": {
     "end_time": "2021-09-02T10:16:35.263775Z",
     "start_time": "2021-09-02T10:16:35.254284Z"
    }
   },
   "source": [
    "## Level 3\n",
    "\n",
    "### Exercise 4\n",
    "\n",
    "Generate a statistical overview of the information contained at the database:"
   ]
  },
  {
   "cell_type": "code",
   "execution_count": 21,
   "id": "127c9c81",
   "metadata": {
    "ExecuteTime": {
     "end_time": "2021-09-02T10:23:25.089045Z",
     "start_time": "2021-09-02T10:23:25.054389Z"
    }
   },
   "outputs": [
    {
     "data": {
      "text/html": [
       "<div>\n",
       "<style scoped>\n",
       "    .dataframe tbody tr th:only-of-type {\n",
       "        vertical-align: middle;\n",
       "    }\n",
       "\n",
       "    .dataframe tbody tr th {\n",
       "        vertical-align: top;\n",
       "    }\n",
       "\n",
       "    .dataframe thead th {\n",
       "        text-align: right;\n",
       "    }\n",
       "</style>\n",
       "<table border=\"1\" class=\"dataframe\">\n",
       "  <thead>\n",
       "    <tr style=\"text-align: right;\">\n",
       "      <th></th>\n",
       "      <th>_id</th>\n",
       "      <th>name</th>\n",
       "      <th>capital</th>\n",
       "      <th>Population_in_M</th>\n",
       "    </tr>\n",
       "  </thead>\n",
       "  <tbody>\n",
       "    <tr>\n",
       "      <th>0</th>\n",
       "      <td>6130a2e4d361c10570113262</td>\n",
       "      <td>China</td>\n",
       "      <td>Beijing</td>\n",
       "      <td>1403</td>\n",
       "    </tr>\n",
       "    <tr>\n",
       "      <th>1</th>\n",
       "      <td>6130a2e4d361c10570113263</td>\n",
       "      <td>USA</td>\n",
       "      <td>Washington</td>\n",
       "      <td>331</td>\n",
       "    </tr>\n",
       "    <tr>\n",
       "      <th>2</th>\n",
       "      <td>6130a2e4d361c10570113264</td>\n",
       "      <td>Spain</td>\n",
       "      <td>Madrid</td>\n",
       "      <td>47</td>\n",
       "    </tr>\n",
       "    <tr>\n",
       "      <th>3</th>\n",
       "      <td>6130a2e4d361c10570113265</td>\n",
       "      <td>Switzerland</td>\n",
       "      <td>Bern</td>\n",
       "      <td>8</td>\n",
       "    </tr>\n",
       "    <tr>\n",
       "      <th>4</th>\n",
       "      <td>6130a2e4d361c10570113266</td>\n",
       "      <td>Brazil</td>\n",
       "      <td>Brasilia</td>\n",
       "      <td>212</td>\n",
       "    </tr>\n",
       "  </tbody>\n",
       "</table>\n",
       "</div>"
      ],
      "text/plain": [
       "                        _id         name     capital  Population_in_M\n",
       "0  6130a2e4d361c10570113262        China     Beijing             1403\n",
       "1  6130a2e4d361c10570113263          USA  Washington              331\n",
       "2  6130a2e4d361c10570113264        Spain      Madrid               47\n",
       "3  6130a2e4d361c10570113265  Switzerland        Bern                8\n",
       "4  6130a2e4d361c10570113266       Brazil    Brasilia              212"
      ]
     },
     "execution_count": 21,
     "metadata": {},
     "output_type": "execute_result"
    }
   ],
   "source": [
    "# Add a numerical column with the population of the countries in millions:\n",
    "\n",
    "df[\"Population_in_M\"] = [1403, 331, 47, 8, 212, 126, 64]\n",
    "\n",
    "df.head()"
   ]
  },
  {
   "cell_type": "code",
   "execution_count": 22,
   "id": "f5587ed6",
   "metadata": {
    "ExecuteTime": {
     "end_time": "2021-09-02T10:37:40.404169Z",
     "start_time": "2021-09-02T10:37:39.030111Z"
    }
   },
   "outputs": [
    {
     "data": {
      "image/png": "[encoded data removed]",
      "text/plain": [
       "<Figure size 720x576 with 1 Axes>"
      ]
     },
     "metadata": {
      "needs_background": "light"
     },
     "output_type": "display_data"
    }
   ],
   "source": [
    "# Simple bar chart showing relative population:\n",
    "\n",
    "import matplotlib.pyplot as plt\n",
    "\n",
    "plt.figure(figsize=(10, 8))\n",
    "plt.bar(df[\"name\"], df[\"Population_in_M\"])\n",
    "plt.show()"
   ]
  }
 ],
 "metadata": {
  "kernelspec": {
   "display_name": "Python 3",
   "language": "python",
   "name": "python3"
  },
  "language_info": {
   "codemirror_mode": {
    "name": "ipython",
    "version": 3
   },
   "file_extension": ".py",
   "mimetype": "text/x-python",
   "name": "python",
   "nbconvert_exporter": "python",
   "pygments_lexer": "ipython3",
   "version": "3.8.8"
  },
  "varInspector": {
   "cols": {
    "lenName": 16,
    "lenType": 16,
    "lenVar": 40
   },
   "kernels_config": {
    "python": {
     "delete_cmd_postfix": "",
     "delete_cmd_prefix": "del ",
     "library": "var_list.py",
     "varRefreshCmd": "print(var_dic_list())"
    },
    "r": {
     "delete_cmd_postfix": ") ",
     "delete_cmd_prefix": "rm(",
     "library": "var_list.r",
     "varRefreshCmd": "cat(var_dic_list()) "
    }
   },
   "types_to_exclude": [
    "module",
    "function",
    "builtin_function_or_method",
    "instance",
    "_Feature"
   ],
   "window_display": false
  }
 },
 "nbformat": 4,
 "nbformat_minor": 5
}
